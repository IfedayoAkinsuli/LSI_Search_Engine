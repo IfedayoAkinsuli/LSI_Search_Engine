{
 "cells": [
  {
   "cell_type": "code",
   "execution_count": 1,
   "metadata": {
    "collapsed": true
   },
   "outputs": [
    {
     "name": "stderr",
     "output_type": "stream",
     "text": [
      "[nltk_data] Downloading package punkt to\n",
      "[nltk_data]     C:\\Users\\ifeda\\AppData\\Roaming\\nltk_data...\n",
      "[nltk_data]   Package punkt is already up-to-date!\n",
      "[nltk_data] Downloading package stopwords to\n",
      "[nltk_data]     C:\\Users\\ifeda\\AppData\\Roaming\\nltk_data...\n",
      "[nltk_data]   Package stopwords is already up-to-date!\n",
      "[nltk_data] Downloading package wordnet to\n",
      "[nltk_data]     C:\\Users\\ifeda\\AppData\\Roaming\\nltk_data...\n",
      "[nltk_data]   Package wordnet is already up-to-date!\n"
     ]
    }
   ],
   "source": [
    "import numpy as np\n",
    "import pandas as pd\n",
    "import requests\n",
    "import nltk\n",
    "nltk.download('punkt')\n",
    "nltk.download('stopwords')\n",
    "nltk.download('wordnet')\n",
    "from nltk.corpus import stopwords\n",
    "from nltk.stem import WordNetLemmatizer\n",
    "from nltk.tokenize import RegexpTokenizer"
   ]
  },
  {
   "cell_type": "markdown",
   "metadata": {
    "collapsed": false
   },
   "source": [
    "## Parses and stores all 7 texts for preprocessing"
   ]
  },
  {
   "cell_type": "code",
   "execution_count": 2,
   "metadata": {
    "collapsed": false
   },
   "outputs": [],
   "source": [
    "url_list = [\n",
    "    \"https://raw.githubusercontent.com/formcept/whiteboard/master/nbviewer/notebooks/data/harrypotter/Book%201%20-%20The%20Philosopher's%20Stone.txt\",\"https://raw.githubusercontent.com/formcept/whiteboard/master/nbviewer/notebooks/data/harrypotter/Book%202%20-%20The%20Chamber%20of%20Secrets.txt\",\"https://raw.githubusercontent.com/formcept/whiteboard/master/nbviewer/notebooks/data/harrypotter/Book%203%20-%20The%20Prisoner%20of%20Azkaban.txt\",\"https://raw.githubusercontent.com/formcept/whiteboard/master/nbviewer/notebooks/data/harrypotter/Book%204%20-%20The%20Goblet%20of%20Fire.txt\",\"https://github.com/formcept/whiteboard/blob/master/nbviewer/notebooks/data/harrypotter/Book%205%20-%20The%20Order%20of%20the%20Phoenix.txt\",\"https://github.com/formcept/whiteboard/blob/master/nbviewer/notebooks/data/harrypotter/Book%206%20-%20The%20Half%20Blood%20Prince.txt\",\"https://github.com/formcept/whiteboard/blob/master/nbviewer/notebooks/data/harrypotter/Book%207%20-%20The%20Deathly%20Hallows.txt\"\n",
    "]\n",
    "\n",
    "text = []\n",
    "\n",
    "for _,i in enumerate(url_list):\n",
    "    req = requests.get(i)\n",
    "    text.append(req.text)"
   ]
  },
  {
   "cell_type": "markdown",
   "metadata": {
    "collapsed": false
   },
   "source": [
    "## Preprocessing"
   ]
  },
  {
   "cell_type": "code",
   "execution_count": 30,
   "metadata": {
    "collapsed": false
   },
   "outputs": [],
   "source": [
    "def preprocessing(text):\n",
    "    tokenizer = RegexpTokenizer(r'\\w+')\n",
    "    text = tokenizer.tokenize(text)\n",
    "\n",
    "    lower_filter = [w.lower() for w in text if w.lower()]\n",
    "    filtered_text = []\n",
    "\n",
    "    filtered_text = [i for i in filtered_text if not i.isdigit()]\n",
    "\n",
    "    stop_words = stopwords.words('english') + ['j','page','k','said','rowling','quot','back']\n",
    "\n",
    "    for words in lower_filter:\n",
    "        if words not in stop_words:\n",
    "            filtered_text.append(words)\n",
    "\n",
    "    filtered_text = [i for i in filtered_text if not i.isdigit()]\n",
    "\n",
    "    lem = WordNetLemmatizer()\n",
    "\n",
    "    filtered_text = [lem.lemmatize(w) for w in filtered_text]\n",
    "\n",
    "    return filtered_text"
   ]
  },
  {
   "cell_type": "code",
   "execution_count": 31,
   "metadata": {
    "collapsed": false
   },
   "outputs": [],
   "source": [
    "processed = [preprocessing(i) for _,i in enumerate(text)]"
   ]
  },
  {
   "cell_type": "markdown",
   "source": [
    "## Prepare the Corpus"
   ],
   "metadata": {
    "collapsed": false
   }
  },
  {
   "cell_type": "code",
   "execution_count": 32,
   "outputs": [],
   "source": [
    "from gensim.corpora import Dictionary\n",
    "X = Dictionary(processed)\n",
    "\n",
    "doc_term_matrix = [X.doc2bow(doc) for doc in processed]"
   ],
   "metadata": {
    "collapsed": false
   }
  },
  {
   "cell_type": "code",
   "execution_count": 33,
   "outputs": [],
   "source": [
    "from gensim.models import LsiModel\n",
    "lsi_model = LsiModel(doc_term_matrix,num_topics=7,id2word=X)"
   ],
   "metadata": {
    "collapsed": false
   }
  },
  {
   "cell_type": "code",
   "execution_count": 34,
   "outputs": [
    {
     "data": {
      "text/plain": "[(0,\n  '0.750*\"harry\" + 0.213*\"ron\" + 0.193*\"potter\" + 0.161*\"hermione\" + 0.103*\"fire\" + 0.096*\"one\" + 0.095*\"mr\" + 0.094*\"goblet\" + 0.088*\"dumbledore\" + 0.082*\"around\"'),\n (1,\n  '0.400*\"class\" + 0.363*\"data\" + 0.236*\"div\" + 0.230*\"flex\" + 0.176*\"true\" + 0.173*\"j\" + 0.151*\"id\" + 0.150*\"span\" + 0.149*\"path\" + 0.143*\"octicon\"'),\n (2,\n  '-0.415*\"fire\" + -0.408*\"goblet\" + 0.239*\"azkaban\" + 0.237*\"prisoner\" + -0.195*\"mr\" + 0.193*\"lupin\" + -0.175*\"moody\" + 0.160*\"black\" + -0.152*\"crouch\" + 0.141*\"professor\"'),\n (3,\n  '-0.359*\"chamber\" + 0.341*\"azkaban\" + -0.325*\"secret\" + 0.317*\"prisoner\" + 0.263*\"lupin\" + 0.199*\"hermione\" + 0.196*\"black\" + -0.179*\"lockhart\" + -0.171*\"stone\" + -0.135*\"philosopher\"'),\n (4,\n  '0.445*\"stone\" + 0.381*\"philosopher\" + -0.300*\"chamber\" + -0.285*\"secret\" + 0.244*\"hagrid\" + -0.159*\"lockhart\" + -0.157*\"ron\" + 0.124*\"quirrell\" + 0.124*\"dudley\" + -0.110*\"dobby\"'),\n (5,\n  '0.319*\"20blood\" + 0.319*\"20prince\" + 0.319*\"20half\" + -0.235*\"20the\" + -0.232*\"20phoenix\" + -0.232*\"20order\" + -0.232*\"20of\" + -0.158*\"class\" + 0.144*\"blood\" + 0.144*\"half\"'),\n (6,\n  '0.431*\"20hallows\" + 0.431*\"20deathly\" + -0.326*\"20order\" + -0.326*\"20phoenix\" + -0.326*\"20of\" + -0.325*\"20the\" + 0.185*\"deathly\" + 0.185*\"hallows\" + -0.142*\"order\" + -0.140*\"phoenix\"')]"
     },
     "execution_count": 34,
     "metadata": {},
     "output_type": "execute_result"
    }
   ],
   "source": [
    "lsi_model.print_topics()"
   ],
   "metadata": {
    "collapsed": false
   }
  },
  {
   "attachments": {},
   "cell_type": "markdown",
   "metadata": {},
   "source": [
    "## Questions"
   ]
  },
  {
   "cell_type": "code",
   "execution_count": 2,
   "metadata": {
    "collapsed": false
   },
   "outputs": [],
   "source": [
    "# questions = [\n",
    "# \"What is the name of the spell that causes an object to rise and move according to the caster's will?\",\n",
    "# \"Who is the ghost that haunts the Hogwarts girls' bathroom?\",\n",
    "# \"Which animal is the Patronus of Severus Snape?\",\n",
    "# \"What is the name of the magical object that grants the possessor the power to control others?\",\n",
    "# \"Who was the Dark wizard that Tom Riddle used to gain his knowledge of Horcruxes?\",\n",
    "# \"What is the name of the game that involves catching a flying golden ball and throwing it through a hoop?\",\n",
    "# \"What are the three Deathly Hallows and what powers do they possess?\",\n",
    "# \"Who was the founder of Slytherin House and what was his signature characteristic?\",\n",
    "# \"What is the name of the potion that allows the drinker to regain their strength and vitality?\",\n",
    "# \"Who was the Defense Against the Dark Arts teacher in Harry's third year at Hogwarts?\"\n",
    "# ]"
   ]
  },
  {
   "cell_type": "code",
   "execution_count": null,
   "metadata": {},
   "outputs": [],
   "source": []
  }
 ],
 "metadata": {
  "kernelspec": {
   "display_name": "Python 3",
   "language": "python",
   "name": "python3"
  },
  "language_info": {
   "codemirror_mode": {
    "name": "ipython",
    "version": 3
   },
   "file_extension": ".py",
   "mimetype": "text/x-python",
   "name": "python",
   "nbconvert_exporter": "python",
   "pygments_lexer": "ipython3",
   "version": "3.10.9"
  }
 },
 "nbformat": 4,
 "nbformat_minor": 0
}
