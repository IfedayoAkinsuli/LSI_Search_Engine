{
 "cells": [
  {
   "cell_type": "code",
   "execution_count": 29,
   "metadata": {
    "collapsed": true
   },
   "outputs": [
    {
     "name": "stderr",
     "output_type": "stream",
     "text": [
      "[nltk_data] Downloading package punkt to\n",
      "[nltk_data]     C:\\Users\\ifeda\\AppData\\Roaming\\nltk_data...\n",
      "[nltk_data]   Package punkt is already up-to-date!\n",
      "[nltk_data] Downloading package stopwords to\n",
      "[nltk_data]     C:\\Users\\ifeda\\AppData\\Roaming\\nltk_data...\n",
      "[nltk_data]   Package stopwords is already up-to-date!\n",
      "[nltk_data] Downloading package wordnet to\n",
      "[nltk_data]     C:\\Users\\ifeda\\AppData\\Roaming\\nltk_data...\n"
     ]
    }
   ],
   "source": [
    "import numpy as np\n",
    "import pandas as pd\n",
    "import matplotlib.pyplot as plt\n",
    "import requests\n",
    "import nltk\n",
    "nltk.download('punkt')\n",
    "nltk.download('stopwords')\n",
    "nltk.download('wordnet')\n",
    "from nltk.corpus import stopwords\n",
    "from nltk.tokenize import RegexpTokenizer\n",
    "from nltk.stem import WordNetLemmatizer"
   ]
  },
  {
   "cell_type": "markdown",
   "source": [
    "## Parses and stores all 7 texts for preprocessing"
   ],
   "metadata": {
    "collapsed": false
   }
  },
  {
   "cell_type": "code",
   "execution_count": 30,
   "outputs": [],
   "source": [
    "url_list = [\n",
    "    \"https://raw.githubusercontent.com/formcept/whiteboard/master/nbviewer/notebooks/data/harrypotter/Book%201%20-%20The%20Philosopher's%20Stone.txt\",\n",
    "    \"https://raw.githubusercontent.com/formcept/whiteboard/master/nbviewer/notebooks/data/harrypotter/Book%202%20-%20The%20Chamber%20of%20Secrets.txt\",\n",
    "    \"https://raw.githubusercontent.com/formcept/whiteboard/master/nbviewer/notebooks/data/harrypotter/Book%203%20-%20The%20Prisoner%20of%20Azkaban.txt\",\n",
    "    \"https://raw.githubusercontent.com/formcept/whiteboard/master/nbviewer/notebooks/data/harrypotter/Book%204%20-%20The%20Goblet%20of%20Fire.txt\",\n",
    "    \"https://github.com/formcept/whiteboard/blob/master/nbviewer/notebooks/data/harrypotter/Book%205%20-%20The%20Order%20of%20the%20Phoenix.txt\",\n",
    "    \"https://github.com/formcept/whiteboard/blob/master/nbviewer/notebooks/data/harrypotter/Book%206%20-%20The%20Half%20Blood%20Prince.txt\",\n",
    "    \"https://github.com/formcept/whiteboard/blob/master/nbviewer/notebooks/data/harrypotter/Book%207%20-%20The%20Deathly%20Hallows.txt\"\n",
    "]\n",
    "\n",
    "text = []\n",
    "\n",
    "for _,i in enumerate(url_list):\n",
    "    req = requests.get(i)\n",
    "    text.append(req.text)"
   ],
   "metadata": {
    "collapsed": false
   }
  },
  {
   "cell_type": "markdown",
   "source": [
    "## Preprocessing"
   ],
   "metadata": {
    "collapsed": false
   }
  },
  {
   "cell_type": "code",
   "execution_count": 33,
   "outputs": [],
   "source": [
    "def preprocessing(text):\n",
    "    tokenizer = RegexpTokenizer(r'\\w+')\n",
    "    text = tokenizer.tokenize(text)\n",
    "\n",
    "    lower_filter = [w.lower() for w in text] # Make sure all words are in lowercase\n",
    "    filtered_text = []\n",
    "\n",
    "    for words in lower_filter: # Remove the stop words from the text files\n",
    "        if words not in stopwords.words('english'):\n",
    "            filtered_text.append(words)\n",
    "\n",
    "    lem = WordNetLemmatizer()\n",
    "    filtered_text = [lem.lemmatize(w) for w in filtered_text]\n",
    "\n",
    "    return filtered_text"
   ],
   "metadata": {
    "collapsed": false
   }
  },
  {
   "cell_type": "code",
   "execution_count": 34,
   "outputs": [
    {
     "data": {
      "text/plain": "['boy',\n 'lived',\n 'mr',\n 'mr',\n 'dursley',\n 'number',\n 'four',\n 'privet',\n 'drive',\n 'proud',\n 'say',\n 'perfectly',\n 'normal',\n 'thank',\n 'much',\n 'last',\n 'people',\n 'expect',\n 'involved',\n 'anything',\n 'strange',\n 'mysterious',\n 'hold',\n 'nonsense',\n 'mr',\n 'dursley',\n 'director',\n 'firm',\n 'called',\n 'grunnings',\n 'made',\n 'drill',\n 'big',\n 'beefy',\n 'man',\n 'hardly',\n 'neck',\n 'although',\n 'large',\n 'mustache',\n 'mr',\n 'dursley',\n 'thin',\n 'blonde',\n 'nearly',\n 'twice',\n 'usual',\n 'amount',\n 'neck',\n 'came',\n 'useful',\n 'spent',\n 'much',\n 'time',\n 'craning',\n 'garden',\n 'fence',\n 'spying',\n 'neighbor',\n 'dursley',\n 'small',\n 'son',\n 'called',\n 'dudley',\n 'opinion',\n 'finer',\n 'boy',\n 'anywhere',\n 'dursleys',\n 'everything',\n 'wanted',\n 'also',\n 'secret',\n 'greatest',\n 'fear',\n 'somebody',\n 'would',\n 'discover',\n 'think',\n 'could',\n 'bear',\n 'anyone',\n 'found',\n 'potter',\n 'mr',\n 'potter',\n 'mr',\n 'dursley',\n 'sister',\n 'page',\n '2',\n 'harry',\n 'potter',\n 'philosopher',\n 'stone',\n 'j',\n 'k',\n 'rowling',\n 'met',\n 'several',\n 'year',\n 'fact',\n 'mr',\n 'dursley',\n 'pretended',\n 'sister',\n 'sister',\n 'good',\n 'nothing',\n 'husband',\n 'undursleyish',\n 'possible',\n 'dursleys',\n 'shuddered',\n 'think',\n 'neighbor',\n 'would',\n 'say',\n 'potter',\n 'arrived',\n 'street',\n 'dursleys',\n 'knew',\n 'potter',\n 'small',\n 'son',\n 'never',\n 'even',\n 'seen',\n 'boy',\n 'another',\n 'good',\n 'reason',\n 'keeping',\n 'potter',\n 'away',\n 'want',\n 'dudley',\n 'mixing',\n 'child',\n 'like',\n 'mr',\n 'mr',\n 'dursley',\n 'woke',\n 'dull',\n 'gray',\n 'tuesday',\n 'story',\n 'start',\n 'nothing',\n 'cloudy',\n 'sky',\n 'outside',\n 'suggest',\n 'strange',\n 'mysterious',\n 'thing',\n 'would',\n 'soon',\n 'happening',\n 'country',\n 'mr',\n 'dursley',\n 'hummed',\n 'picked',\n 'boring',\n 'tie',\n 'work',\n 'mr',\n 'dursley',\n 'gossiped',\n 'away',\n 'happily',\n 'wrestled',\n 'screaming',\n 'dudley',\n 'high',\n 'chair',\n 'none',\n 'noticed',\n 'large',\n 'tawny',\n 'owl',\n 'flutter',\n 'past',\n 'window',\n 'half',\n 'past',\n 'eight',\n 'mr',\n 'dursley',\n 'picked',\n 'briefcase',\n 'pecked',\n 'mr',\n 'dursley',\n 'cheek',\n 'tried',\n 'kiss',\n 'dudley',\n 'good',\n 'bye',\n 'missed',\n 'dudley',\n 'tantrum',\n 'throwing',\n 'cereal',\n 'wall',\n 'little',\n 'tyke',\n 'chortled',\n 'mr',\n 'dursley',\n 'left',\n 'house',\n 'got',\n 'car',\n 'backed',\n 'number',\n 'four',\n 'drive',\n 'corner',\n 'street',\n 'noticed',\n 'first',\n 'sign',\n 'something',\n 'peculiar',\n 'cat',\n 'reading',\n 'map',\n 'second',\n 'mr',\n 'dursley',\n 'realize',\n 'seen',\n 'jerked',\n 'head',\n 'around',\n 'look',\n 'tabby',\n 'cat',\n 'standing',\n 'corner',\n 'privet',\n 'drive',\n 'map',\n 'sight',\n 'could',\n 'thinking',\n 'must',\n 'trick',\n 'light',\n 'mr',\n 'dursley',\n 'blinked',\n 'stared',\n 'page',\n '3',\n 'harry',\n 'potter',\n 'philosopher',\n 'stone',\n 'j',\n 'k',\n 'rowling',\n 'cat',\n 'stared',\n 'back',\n 'mr',\n 'dursley',\n 'drove',\n 'around',\n 'corner',\n 'road',\n 'watched',\n 'cat',\n 'mirror',\n 'reading',\n 'sign',\n 'said',\n 'privet',\n 'drive',\n 'looking',\n 'sign',\n 'cat',\n 'read',\n 'map',\n 'sign',\n 'mr',\n 'dursley',\n 'gave',\n 'little',\n 'shake',\n 'put',\n 'cat',\n 'mind',\n 'drove',\n 'toward',\n 'town',\n 'thought',\n 'nothing',\n 'except',\n 'large',\n 'order',\n 'drill',\n 'hoping',\n 'get',\n 'day',\n 'edge',\n 'town',\n 'drill',\n 'driven',\n 'mind',\n 'something',\n 'else',\n 'sat',\n 'usual',\n 'morning',\n 'traffic',\n 'jam',\n 'help',\n 'noticing',\n 'seemed',\n 'lot',\n 'strangely',\n 'dressed',\n 'people',\n 'people',\n 'cloak',\n 'mr',\n 'dursley',\n 'bear',\n 'people',\n 'dressed',\n 'funny',\n 'clothes',\n 'getup',\n 'saw',\n 'young',\n 'people',\n 'supposed',\n 'stupid',\n 'new',\n 'fashion',\n 'drummed',\n 'finger',\n 'steering',\n 'wheel',\n 'eye',\n 'fell',\n 'huddle',\n 'weirdo',\n 'standing',\n 'quite',\n 'close',\n 'whispering',\n 'excitedly',\n 'together',\n 'mr',\n 'dursley',\n 'enraged',\n 'see',\n 'couple',\n 'young',\n 'man',\n 'older',\n 'wearing',\n 'emerald',\n 'green',\n 'cloak',\n 'nerve',\n 'struck',\n 'mr',\n 'dursley',\n 'probably',\n 'silly',\n 'stunt',\n 'people',\n 'obviously',\n 'collecting',\n 'something',\n 'yes',\n 'would',\n 'traffic',\n 'moved',\n 'minute',\n 'later',\n 'mr',\n 'dursley',\n 'arrived',\n 'grunnings',\n 'parking',\n 'lot',\n 'mind',\n 'back',\n 'drill',\n 'mr',\n 'dursley',\n 'always',\n 'sat',\n 'back',\n 'window',\n 'office',\n 'ninth',\n 'floor',\n 'might',\n 'found',\n 'harder',\n 'concentrate',\n 'drill',\n 'morning',\n 'see',\n 'owl',\n 'swooping',\n 'past',\n 'broad',\n 'daylight',\n 'though',\n 'people',\n 'street',\n 'pointed',\n 'gazed',\n 'open',\n 'mouthed',\n 'owl',\n 'owl',\n 'sped',\n 'overhead',\n 'never',\n 'seen',\n 'owl',\n 'even',\n 'nighttime',\n 'mr',\n 'dursley',\n 'however',\n 'perfectly',\n 'normal',\n 'owl',\n 'free',\n 'morning',\n 'yelled',\n 'five',\n 'different',\n 'people',\n 'made',\n 'several',\n 'important',\n 'telephone',\n 'page',\n '4',\n 'harry',\n 'potter',\n 'philosopher',\n 'stone',\n 'j',\n 'k',\n 'rowling',\n 'call',\n 'shouted',\n 'bit',\n 'good',\n 'mood',\n 'lunchtime',\n 'thought',\n 'stretch',\n 'leg',\n 'walk',\n 'across',\n 'road',\n 'buy',\n 'bun',\n 'bakery',\n 'forgotten',\n 'people',\n 'cloak',\n 'passed',\n 'group',\n 'next',\n 'baker',\n 'eyed',\n 'angrily',\n 'passed',\n 'know',\n 'made',\n 'uneasy',\n 'bunch',\n 'whispering',\n 'excitedly',\n 'see',\n 'single',\n 'collecting',\n 'tin',\n 'way',\n 'back',\n 'past',\n 'clutching',\n 'large',\n 'doughnut',\n 'bag',\n 'caught',\n 'word',\n 'saying',\n 'potter',\n 'right',\n 'heard',\n 'yes',\n 'son',\n 'harry',\n 'mr',\n 'dursley',\n 'stopped',\n 'dead',\n 'fear',\n 'flooded',\n 'looked',\n 'back',\n 'whisperer',\n 'wanted',\n 'say',\n 'something',\n 'thought',\n 'better',\n 'dashed',\n 'back',\n 'across',\n 'road',\n 'hurried',\n 'office',\n 'snapped',\n 'secretary',\n 'disturb',\n 'seized',\n 'telephone',\n 'almost',\n 'finished',\n 'dialing',\n 'home',\n 'number',\n 'changed',\n 'mind',\n 'put',\n 'receiver',\n 'back',\n 'stroked',\n 'mustache',\n 'thinking',\n 'stupid',\n 'potter',\n 'unusual',\n 'name',\n 'sure',\n 'lot',\n 'people',\n 'called',\n 'potter',\n 'son',\n 'called',\n 'harry',\n 'come',\n 'think',\n 'even',\n 'sure',\n 'nephew',\n 'called',\n 'harry',\n 'never',\n 'even',\n 'seen',\n 'boy',\n 'might',\n 'harvey',\n 'harold',\n 'point',\n 'worrying',\n 'mr',\n 'dursley',\n 'always',\n 'got',\n 'upset',\n 'mention',\n 'sister',\n 'blame',\n 'sister',\n 'like',\n 'people',\n 'cloak',\n 'page',\n '5',\n 'harry',\n 'potter',\n 'philosopher',\n 'stone',\n 'j',\n 'k',\n 'rowling',\n 'found',\n 'lot',\n 'harder',\n 'concentrate',\n 'drill',\n 'afternoon',\n 'left',\n 'building',\n 'five',\n 'clock',\n 'still',\n 'worried',\n 'walked',\n 'straight',\n 'someone',\n 'outside',\n 'door',\n 'sorry',\n 'grunted',\n 'tiny',\n 'old',\n 'man',\n 'stumbled',\n 'almost',\n 'fell',\n 'second',\n 'mr',\n 'dursley',\n 'realized',\n 'man',\n 'wearing',\n 'violet',\n 'cloak',\n 'seem',\n 'upset',\n 'almost',\n 'knocked',\n 'ground',\n 'contrary',\n 'face',\n 'split',\n 'wide',\n 'smile',\n 'said',\n 'squeaky',\n 'voice',\n 'made',\n 'passersby',\n 'stare',\n 'sorry',\n 'dear',\n 'sir',\n 'nothing',\n 'could',\n 'upset',\n 'today',\n 'rejoice',\n 'know',\n 'gone',\n 'last',\n 'even',\n 'muggles',\n 'like',\n 'celebrating',\n 'happy',\n 'happy',\n 'day',\n 'old',\n 'man',\n 'hugged',\n 'mr',\n 'dursley',\n 'around',\n 'middle',\n 'walked',\n 'mr',\n 'dursley',\n 'stood',\n 'rooted',\n 'spot',\n 'hugged',\n 'complete',\n 'stranger',\n 'also',\n 'thought',\n 'called',\n 'muggle',\n 'whatever',\n 'rattled',\n 'hurried',\n 'car',\n 'set',\n 'home',\n 'hoping',\n 'imagining',\n 'thing',\n 'never',\n 'hoped',\n 'approve',\n 'imagination',\n 'pulled',\n 'driveway',\n 'number',\n 'four',\n 'first',\n 'thing',\n 'saw',\n 'improve',\n 'mood',\n 'tabby',\n 'cat',\n 'spotted',\n 'morning',\n 'sitting',\n 'garden',\n 'wall',\n 'sure',\n 'one',\n 'marking',\n 'around',\n 'eye',\n 'shoo',\n 'said',\n 'mr',\n 'dursley',\n 'loudly',\n 'cat',\n 'move',\n 'gave',\n 'stern',\n 'look',\n 'normal',\n 'cat',\n 'behavior',\n 'mr',\n 'dursley',\n 'wondered',\n 'trying',\n 'pull',\n 'together',\n 'let',\n 'page',\n '6',\n 'harry',\n 'potter',\n 'philosopher',\n 'stone',\n 'j',\n 'k',\n 'rowling',\n 'house',\n 'still',\n 'determined',\n 'mention',\n 'anything',\n 'wife',\n 'mr',\n 'dursley',\n 'nice',\n 'normal',\n 'day',\n 'told',\n 'dinner',\n 'mr',\n 'next',\n 'door',\n 'problem',\n 'daughter',\n 'dudley',\n 'learned',\n 'new',\n 'word',\n 'mr',\n 'dursley',\n 'tried',\n 'act',\n 'normally',\n 'dudley',\n 'put',\n 'bed',\n 'went',\n 'living',\n 'room',\n 'time',\n 'catch',\n 'last',\n 'report',\n 'evening',\n 'news',\n 'finally',\n 'bird',\n 'watcher',\n 'everywhere',\n 'reported',\n 'nation',\n 'owl',\n 'behaving',\n 'unusually',\n 'today',\n 'although',\n 'owl',\n 'normally',\n 'hunt',\n 'night',\n 'hardly',\n 'ever',\n 'seen',\n 'daylight',\n 'hundred',\n 'sighting',\n 'bird',\n 'flying',\n 'every',\n 'direction',\n 'since',\n 'sunrise',\n 'expert',\n 'unable',\n 'explain',\n 'owl',\n 'suddenly',\n 'changed',\n 'sleeping',\n 'pattern',\n 'newscaster',\n 'allowed',\n 'grin',\n 'mysterious',\n 'jim',\n 'mcguffin',\n 'weather',\n 'going',\n 'shower',\n 'owl',\n 'tonight',\n 'jim',\n 'well',\n 'ted',\n 'said',\n 'weatherman',\n 'know',\n 'owl',\n 'acting',\n 'oddly',\n 'today',\n 'viewer',\n 'far',\n 'apart',\n 'kent',\n 'yorkshire',\n 'dundee',\n 'phoning',\n 'tell',\n 'instead',\n 'rain',\n 'promised',\n 'yesterday',\n 'downpour',\n 'shooting',\n 'star',\n 'perhaps',\n 'people',\n 'celebrating',\n 'bonfire',\n 'night',\n 'early',\n 'next',\n 'week',\n 'folk',\n 'promise',\n 'wet',\n 'night',\n 'tonight',\n 'mr',\n 'dursley',\n 'sat',\n 'frozen',\n 'armchair',\n 'shooting',\n 'star',\n 'britain',\n 'owl',\n 'flying',\n 'daylight',\n 'mysterious',\n 'people',\n 'cloak',\n 'place',\n 'whisper',\n 'whisper',\n 'potter',\n 'page',\n '7',\n 'harry',\n 'potter',\n 'philosopher',\n 'stone',\n 'j',\n 'k',\n 'rowling',\n 'mr',\n 'dursley',\n 'came',\n 'living',\n 'room',\n 'carrying',\n 'two',\n 'cup',\n 'tea',\n 'good',\n 'say',\n 'something',\n 'cleared',\n 'throat',\n 'nervously',\n 'er',\n 'petunia',\n 'dear',\n 'heard',\n 'sister',\n 'lately',\n 'expected',\n 'mr',\n 'dursley',\n 'looked',\n 'shocked',\n 'angry',\n 'normally',\n 'pretended',\n 'sister',\n 'said',\n 'sharply',\n 'funny',\n 'stuff',\n 'news',\n 'mr',\n 'dursley',\n 'mumbled',\n 'owl',\n 'shooting',\n 'star',\n 'lot',\n 'funny',\n 'looking',\n 'people',\n 'town',\n 'today',\n 'snapped',\n 'mr',\n 'dursley',\n 'well',\n 'thought',\n 'maybe',\n 'something',\n 'know',\n 'crowd',\n 'mr',\n 'dursley',\n 'sipped',\n 'tea',\n 'pursed',\n 'lip',\n 'mr',\n 'dursley',\n 'wondered',\n 'whether',\n 'dared',\n 'tell',\n 'heard',\n 'name',\n 'potter',\n 'decided',\n 'dare',\n 'instead',\n 'said',\n 'casually',\n 'could',\n 'son',\n 'dudley',\n 'age',\n 'suppose',\n 'said',\n 'mr',\n 'dursley',\n 'stiffly',\n 'name',\n 'howard',\n 'harry',\n 'nasty',\n 'common',\n 'name',\n 'ask',\n 'oh',\n 'yes',\n 'said',\n 'mr',\n 'dursley',\n 'heart',\n 'sinking',\n 'horribly',\n 'yes',\n 'quite',\n ...]"
     },
     "execution_count": 34,
     "metadata": {},
     "output_type": "execute_result"
    }
   ],
   "source": [
    "preprocessing(text[0])"
   ],
   "metadata": {
    "collapsed": false
   }
  },
  {
   "cell_type": "code",
   "execution_count": 10,
   "outputs": [],
   "source": [
    "processed = [np.array(preprocessing(i)) for _,i in enumerate(text)]"
   ],
   "metadata": {
    "collapsed": false
   }
  },
  {
   "cell_type": "code",
   "execution_count": 12,
   "outputs": [
    {
     "data": {
      "text/plain": "array(['/', 'THE', 'BOY', ..., '-', 'J.K.', 'Rowling'], dtype='<U19')"
     },
     "execution_count": 12,
     "metadata": {},
     "output_type": "execute_result"
    }
   ],
   "source": [
    "processed[0]"
   ],
   "metadata": {
    "collapsed": false
   }
  },
  {
   "cell_type": "markdown",
   "source": [
    "## Create the term document matrix for each text"
   ],
   "metadata": {
    "collapsed": false
   }
  },
  {
   "cell_type": "code",
   "execution_count": 14,
   "outputs": [
    {
     "ename": "ValueError",
     "evalue": "Iterable over raw text documents expected, string object received.",
     "output_type": "error",
     "traceback": [
      "\u001B[1;31m---------------------------------------------------------------------------\u001B[0m",
      "\u001B[1;31mValueError\u001B[0m                                Traceback (most recent call last)",
      "Cell \u001B[1;32mIn[14], line 4\u001B[0m\n\u001B[0;32m      1\u001B[0m \u001B[38;5;28;01mfrom\u001B[39;00m \u001B[38;5;21;01msklearn\u001B[39;00m\u001B[38;5;21;01m.\u001B[39;00m\u001B[38;5;21;01mfeature_extraction\u001B[39;00m\u001B[38;5;21;01m.\u001B[39;00m\u001B[38;5;21;01mtext\u001B[39;00m \u001B[38;5;28;01mimport\u001B[39;00m CountVectorizer\n\u001B[0;32m      3\u001B[0m vectorizer \u001B[38;5;241m=\u001B[39m CountVectorizer()\n\u001B[1;32m----> 4\u001B[0m X \u001B[38;5;241m=\u001B[39m \u001B[43mvectorizer\u001B[49m\u001B[38;5;241;43m.\u001B[39;49m\u001B[43mfit_transform\u001B[49m\u001B[43m(\u001B[49m\u001B[43mtext\u001B[49m\u001B[43m[\u001B[49m\u001B[38;5;241;43m0\u001B[39;49m\u001B[43m]\u001B[49m\u001B[43m)\u001B[49m\n\u001B[0;32m      6\u001B[0m data \u001B[38;5;241m=\u001B[39m pd\u001B[38;5;241m.\u001B[39mDataFrame(X\u001B[38;5;241m.\u001B[39mtoarray(),columns\u001B[38;5;241m=\u001B[39mvectorizer\u001B[38;5;241m.\u001B[39mget_feature_names_out())\n\u001B[0;32m      8\u001B[0m data\n",
      "File \u001B[1;32m~\\PycharmProjects\\LSI_Search_Engine\\venv\\lib\\site-packages\\sklearn\\feature_extraction\\text.py:1365\u001B[0m, in \u001B[0;36mCountVectorizer.fit_transform\u001B[1;34m(self, raw_documents, y)\u001B[0m\n\u001B[0;32m   1361\u001B[0m \u001B[38;5;66;03m# We intentionally don't call the transform method to make\u001B[39;00m\n\u001B[0;32m   1362\u001B[0m \u001B[38;5;66;03m# fit_transform overridable without unwanted side effects in\u001B[39;00m\n\u001B[0;32m   1363\u001B[0m \u001B[38;5;66;03m# TfidfVectorizer.\u001B[39;00m\n\u001B[0;32m   1364\u001B[0m \u001B[38;5;28;01mif\u001B[39;00m \u001B[38;5;28misinstance\u001B[39m(raw_documents, \u001B[38;5;28mstr\u001B[39m):\n\u001B[1;32m-> 1365\u001B[0m     \u001B[38;5;28;01mraise\u001B[39;00m \u001B[38;5;167;01mValueError\u001B[39;00m(\n\u001B[0;32m   1366\u001B[0m         \u001B[38;5;124m\"\u001B[39m\u001B[38;5;124mIterable over raw text documents expected, string object received.\u001B[39m\u001B[38;5;124m\"\u001B[39m\n\u001B[0;32m   1367\u001B[0m     )\n\u001B[0;32m   1369\u001B[0m \u001B[38;5;28mself\u001B[39m\u001B[38;5;241m.\u001B[39m_validate_params()\n\u001B[0;32m   1370\u001B[0m \u001B[38;5;28mself\u001B[39m\u001B[38;5;241m.\u001B[39m_validate_ngram_range()\n",
      "\u001B[1;31mValueError\u001B[0m: Iterable over raw text documents expected, string object received."
     ]
    }
   ],
   "source": [
    "from sklearn.feature_extraction.text import CountVectorizer\n",
    "\n",
    "vectorizer = CountVectorizer()\n",
    "X = vectorizer.fit_transform(text[0])\n",
    "\n",
    "data = pd.DataFrame(X.toarray(),columns=vectorizer.get_feature_names_out())\n",
    "\n",
    "data"
   ],
   "metadata": {
    "collapsed": false
   }
  },
  {
   "cell_type": "markdown",
   "source": [
    "## Create the LSA model"
   ],
   "metadata": {
    "collapsed": false
   }
  },
  {
   "cell_type": "code",
   "execution_count": null,
   "outputs": [],
   "source": [],
   "metadata": {
    "collapsed": false
   }
  },
  {
   "cell_type": "code",
   "execution_count": 88,
   "outputs": [],
   "source": [
    "#term_counts = [pd.DataFrame(np.unique(processed[i],return_counts=True)).T.set_index(0) for i in range(len(processed))]"
   ],
   "metadata": {
    "collapsed": false
   }
  },
  {
   "cell_type": "code",
   "execution_count": 94,
   "outputs": [
    {
     "data": {
      "text/plain": "       1\n0       \n!    450\n(     30\n)     31\n,   5658\n-    336\n..   ...\n’   3111\n“   2437\n”   2414\n•k     3\n■      1\n\n[6493 rows x 1 columns]",
      "text/html": "<div>\n<style scoped>\n    .dataframe tbody tr th:only-of-type {\n        vertical-align: middle;\n    }\n\n    .dataframe tbody tr th {\n        vertical-align: top;\n    }\n\n    .dataframe thead th {\n        text-align: right;\n    }\n</style>\n<table border=\"1\" class=\"dataframe\">\n  <thead>\n    <tr style=\"text-align: right;\">\n      <th></th>\n      <th>1</th>\n    </tr>\n    <tr>\n      <th>0</th>\n      <th></th>\n    </tr>\n  </thead>\n  <tbody>\n    <tr>\n      <th>!</th>\n      <td>450</td>\n    </tr>\n    <tr>\n      <th>(</th>\n      <td>30</td>\n    </tr>\n    <tr>\n      <th>)</th>\n      <td>31</td>\n    </tr>\n    <tr>\n      <th>,</th>\n      <td>5658</td>\n    </tr>\n    <tr>\n      <th>-</th>\n      <td>336</td>\n    </tr>\n    <tr>\n      <th>...</th>\n      <td>...</td>\n    </tr>\n    <tr>\n      <th>’</th>\n      <td>3111</td>\n    </tr>\n    <tr>\n      <th>“</th>\n      <td>2437</td>\n    </tr>\n    <tr>\n      <th>”</th>\n      <td>2414</td>\n    </tr>\n    <tr>\n      <th>•k</th>\n      <td>3</td>\n    </tr>\n    <tr>\n      <th>■</th>\n      <td>1</td>\n    </tr>\n  </tbody>\n</table>\n<p>6493 rows × 1 columns</p>\n</div>"
     },
     "execution_count": 94,
     "metadata": {},
     "output_type": "execute_result"
    }
   ],
   "source": [
    "#term_counts[0]"
   ],
   "metadata": {
    "collapsed": false
   }
  },
  {
   "cell_type": "code",
   "execution_count": 95,
   "outputs": [],
   "source": [
    "#term_counts[0].index = term_counts[0].index.astype(str)"
   ],
   "metadata": {
    "collapsed": false
   }
  },
  {
   "cell_type": "code",
   "execution_count": 100,
   "outputs": [
    {
     "data": {
      "text/plain": "       1\n0       \n!    450\n(     30\n)     31\n,   5658\n-    336\n..   ...\n’   3111\n“   2437\n”   2414\n•k     3\n■      1\n\n[6493 rows x 1 columns]",
      "text/html": "<div>\n<style scoped>\n    .dataframe tbody tr th:only-of-type {\n        vertical-align: middle;\n    }\n\n    .dataframe tbody tr th {\n        vertical-align: top;\n    }\n\n    .dataframe thead th {\n        text-align: right;\n    }\n</style>\n<table border=\"1\" class=\"dataframe\">\n  <thead>\n    <tr style=\"text-align: right;\">\n      <th></th>\n      <th>1</th>\n    </tr>\n    <tr>\n      <th>0</th>\n      <th></th>\n    </tr>\n  </thead>\n  <tbody>\n    <tr>\n      <th>!</th>\n      <td>450</td>\n    </tr>\n    <tr>\n      <th>(</th>\n      <td>30</td>\n    </tr>\n    <tr>\n      <th>)</th>\n      <td>31</td>\n    </tr>\n    <tr>\n      <th>,</th>\n      <td>5658</td>\n    </tr>\n    <tr>\n      <th>-</th>\n      <td>336</td>\n    </tr>\n    <tr>\n      <th>...</th>\n      <td>...</td>\n    </tr>\n    <tr>\n      <th>’</th>\n      <td>3111</td>\n    </tr>\n    <tr>\n      <th>“</th>\n      <td>2437</td>\n    </tr>\n    <tr>\n      <th>”</th>\n      <td>2414</td>\n    </tr>\n    <tr>\n      <th>•k</th>\n      <td>3</td>\n    </tr>\n    <tr>\n      <th>■</th>\n      <td>1</td>\n    </tr>\n  </tbody>\n</table>\n<p>6493 rows × 1 columns</p>\n</div>"
     },
     "execution_count": 100,
     "metadata": {},
     "output_type": "execute_result"
    }
   ],
   "source": [
    "#term_counts[0]"
   ],
   "metadata": {
    "collapsed": false
   }
  }
 ],
 "metadata": {
  "kernelspec": {
   "display_name": "Python 3",
   "language": "python",
   "name": "python3"
  },
  "language_info": {
   "codemirror_mode": {
    "name": "ipython",
    "version": 2
   },
   "file_extension": ".py",
   "mimetype": "text/x-python",
   "name": "python",
   "nbconvert_exporter": "python",
   "pygments_lexer": "ipython2",
   "version": "2.7.6"
  }
 },
 "nbformat": 4,
 "nbformat_minor": 0
}
